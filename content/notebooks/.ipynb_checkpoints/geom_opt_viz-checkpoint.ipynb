{
 "cells": [
  {
   "cell_type": "code",
   "execution_count": 1,
   "id": "protecting-amazon",
   "metadata": {},
   "outputs": [],
   "source": [
    "# this we know beforehand...\n",
    "natoms = 178\n",
    "\n",
    "# read the whole file in\n",
    "with open(\"tpp-dimer_optim.xyz\", \"r\") as fh:\n",
    "    opt_traj = fh.readlines()\n",
    "    \n",
    "# number of lines in each XYZ structure\n",
    "lines_per_xyz = natoms + 2"
   ]
  },
  {
   "cell_type": "code",
   "execution_count": 2,
   "id": "arranged-qatar",
   "metadata": {},
   "outputs": [],
   "source": [
    "geoms = []\n",
    "for lines in range(0, len(opt_traj), lines_per_xyz):\n",
    "    # First, get the list slice\n",
    "    geoms.append(\"\".join(opt_traj[lines:lines+lines_per_xyz]))"
   ]
  },
  {
   "cell_type": "code",
   "execution_count": 4,
   "id": "palestinian-light",
   "metadata": {},
   "outputs": [
    {
     "name": "stdout",
     "output_type": "stream",
     "text": [
      "7.6.3\n"
     ]
    },
    {
     "data": {
      "application/vnd.jupyter.widget-view+json": {
       "model_id": "1dd8ce77bc184b7aa92516a0b449c0c2",
       "version_major": 2,
       "version_minor": 0
      },
      "text/plain": [
       "NGLWidget()"
      ]
     },
     "metadata": {},
     "output_type": "display_data"
    }
   ],
   "source": [
    "import py3Dmol as p3d\n",
    "\n",
    "import ipywidgets\n",
    "\n",
    "print(ipywidgets.__version__)\n",
    "\n",
    "import nglview as nv\n",
    "\n",
    "import qcelemental as qcel\n",
    "\n",
    "mol = qcel.models.Molecule.from_data(geoms[0], dtype=\"xyz\")\n",
    "\n",
    "v0 = nv.show_qcelemental(mol)\n",
    "\n",
    "v0"
   ]
  },
  {
   "cell_type": "code",
   "execution_count": 5,
   "id": "ahead-wheat",
   "metadata": {},
   "outputs": [
    {
     "data": {
      "application/vnd.jupyter.widget-view+json": {
       "model_id": "893ef88b769748c0ab22036e7500877a",
       "version_major": 2,
       "version_minor": 0
      },
      "text/plain": [
       "VBox(children=(Play(value=0), IntSlider(value=0, max=96), Output()))"
      ]
     },
     "metadata": {},
     "output_type": "display_data"
    }
   ],
   "source": [
    "import ipywidgets as widgets\n",
    "\n",
    "\n",
    "out = widgets.Output()\n",
    "\n",
    "@out.capture(clear_output=True, wait=True)\n",
    "def on_value_change(change):\n",
    "    #out.clear_output(wait=True)\n",
    "    #with out:\n",
    "    idx = change[\"new\"]\n",
    "    xyz = geoms[idx]\n",
    "    v = p3d.view(width=600, height=600) \n",
    "    v.addModel(xyz, \"xyz\")\n",
    "    v.setStyle({\"stick\": {}})\n",
    "    v.zoomTo()\n",
    "    v.show()\n",
    "\n",
    "slider = widgets.IntSlider(min=0, max=len(geoms)-1, step=1, continuous_update=True)\n",
    "play = widgets.Play(min=0, interval=100)\n",
    "\n",
    "slider.observe(on_value_change, 'value')\n",
    "widgets.jslink((play, 'value'), (slider, 'value'))\n",
    "widgets.VBox([play, slider, out])"
   ]
  },
  {
   "cell_type": "code",
   "execution_count": 67,
   "id": "color-quarterly",
   "metadata": {},
   "outputs": [
    {
     "data": {
      "application/vnd.jupyter.widget-view+json": {
       "model_id": "a72d36b5cfd24807a73bd844059e9619",
       "version_major": 2,
       "version_minor": 0
      },
      "text/plain": [
       "FileUpload(value={}, accept='.xyz', description='Upload')"
      ]
     },
     "metadata": {},
     "output_type": "display_data"
    }
   ],
   "source": [
    "up = widgets.FileUpload(\n",
    "    accept=\".xyz\",  # Accepted file extension e.g. '.txt', '.pdf', 'image/*', 'image/*,.pdf'\n",
    "    multiple=False  # True to accept multiple files upload else False\n",
    ")\n",
    "display(up)"
   ]
  },
  {
   "cell_type": "code",
   "execution_count": 11,
   "id": "eleven-material",
   "metadata": {},
   "outputs": [],
   "source": [
    "import codecs\n",
    "\n",
    "fname = list(up.value.keys())[0]\n",
    "contents = codecs.decode(up.value[fname][\"content\"]).splitlines()\n",
    "\n",
    "gs = []\n",
    "for lines in range(0, len(contents), lines_per_xyz):\n",
    "    # First, get the list slice\n",
    "    gs.append(\"\\n\".join(contents[lines:lines+lines_per_xyz]))"
   ]
  },
  {
   "cell_type": "code",
   "execution_count": 2,
   "id": "vanilla-timber",
   "metadata": {},
   "outputs": [],
   "source": [
    "%matplotlib widget\n",
    "from matplotlib import pyplot as plt"
   ]
  },
  {
   "cell_type": "code",
   "execution_count": 8,
   "id": "unexpected-medicaid",
   "metadata": {},
   "outputs": [],
   "source": [
    "import re\n",
    "\n",
    "regex = re.compile(br\"Iteration (?P<iteration>\\d+) Energy (?P<energy>-\\d+.\\d+)\", re.MULTILINE)\n",
    "# memoryview of the contents of the file\n",
    "foo = up.value[fname][\"content\"]\n",
    "\n",
    "# find all the energies\n",
    "matches = regex.finditer(foo)\n",
    "\n",
    "energies = [float(m.group(\"energy\")) for m in matches]"
   ]
  },
  {
   "cell_type": "code",
   "execution_count": 8,
   "id": "selective-shelf",
   "metadata": {},
   "outputs": [
    {
     "ename": "NameError",
     "evalue": "name 'energies' is not defined",
     "output_type": "error",
     "traceback": [
      "\u001b[0;31m---------------------------------------------------------------------------\u001b[0m",
      "\u001b[0;31mNameError\u001b[0m                                 Traceback (most recent call last)",
      "\u001b[0;32m<ipython-input-8-b18771f7f7e9>\u001b[0m in \u001b[0;36m<module>\u001b[0;34m\u001b[0m\n\u001b[1;32m      2\u001b[0m \u001b[0;32mfrom\u001b[0m \u001b[0mmatplotlib\u001b[0m \u001b[0;32mimport\u001b[0m \u001b[0mpyplot\u001b[0m \u001b[0;32mas\u001b[0m \u001b[0mplt\u001b[0m\u001b[0;34m\u001b[0m\u001b[0;34m\u001b[0m\u001b[0m\n\u001b[1;32m      3\u001b[0m \u001b[0;34m\u001b[0m\u001b[0m\n\u001b[0;32m----> 4\u001b[0;31m \u001b[0mplt\u001b[0m\u001b[0;34m.\u001b[0m\u001b[0mplot\u001b[0m\u001b[0;34m(\u001b[0m\u001b[0menergies\u001b[0m\u001b[0;34m)\u001b[0m\u001b[0;34m\u001b[0m\u001b[0;34m\u001b[0m\u001b[0m\n\u001b[0m\u001b[1;32m      5\u001b[0m \u001b[0;34m\u001b[0m\u001b[0m\n\u001b[1;32m      6\u001b[0m \u001b[0;31m# Adding Title\u001b[0m\u001b[0;34m\u001b[0m\u001b[0;34m\u001b[0m\u001b[0;34m\u001b[0m\u001b[0m\n",
      "\u001b[0;31mNameError\u001b[0m: name 'energies' is not defined"
     ]
    }
   ],
   "source": [
    "plt.plot(energies)\n",
    "\n",
    "# Adding Title\n",
    "plt.title(\"Geometry optimization\")\n",
    "  \n",
    "# Labeling the axes\n",
    "plt.xlabel(\"Iteration\")\n",
    "plt.ylabel(\"Energy (atomic units)\")\n",
    "\n",
    "plt.show()"
   ]
  },
  {
   "cell_type": "code",
   "execution_count": 7,
   "id": "optical-cutting",
   "metadata": {},
   "outputs": [],
   "source": [
    "def make_box_layout():\n",
    "     return widgets.Layout(\n",
    "        border='solid 1px black',\n",
    "        margin='0px 10px 10px 0px',\n",
    "        padding='5px 5px 5px 5px'\n",
    "     )"
   ]
  },
  {
   "cell_type": "code",
   "execution_count": 1,
   "id": "contained-exposure",
   "metadata": {},
   "outputs": [],
   "source": [
    "import re\n",
    "import codecs\n",
    "import ipywidgets\n",
    "\n",
    "class GeometryOptimizerUploader(ipywidgets.HBox):\n",
    "    \n",
    "    def __init__(self):\n",
    "        super().__init__()\n",
    "        self.geometries = []\n",
    "        self.energies = []\n",
    "        \n",
    "        # define widgets\n",
    "        uploader = ipywidgets.FileUpload(\n",
    "            accept=\".xyz\",  # Accepted file extension e.g. '.txt', '.pdf', 'image/*', 'image/*,.pdf'\n",
    "            multiple=False  # True to accept multiple files upload else False\n",
    "        )\n",
    "        uploader.observe(self.on_upload_change, names='_counter')\n",
    "        \n",
    "        self.children = [uploader]\n",
    "\n",
    "    def on_upload_change(self, change):\n",
    "        if not change.new:\n",
    "            return\n",
    "        up = change.owner\n",
    "        \n",
    "        regex = re.compile(br\"Iteration (?P<iteration>\\d+) Energy (?P<energy>-\\d+.\\d+)\", re.MULTILINE)\n",
    "        for filename, data in up.value.items():\n",
    "            print(f'uploaded {filename}')\n",
    "            contents = data[\"content\"]\n",
    "            matches = regex.finditer(contents)\n",
    "            self.energies = [float(m.group(\"energy\")) for m in matches]\n",
    "            # number of lines in each XYZ structure\n",
    "            xyzs = codecs.decode(contents).splitlines()\n",
    "            natoms = contents[0]\n",
    "            lines_per_xyz = natoms + 2\n",
    "            for lines in range(0, len(xyzs), lines_per_xyz):\n",
    "                self.geometries.append(\"\\n\".join(xyzs[lines:lines+lines_per_xyz]))\n",
    "        up.value.clear()\n",
    "        up._counter = 0"
   ]
  },
  {
   "cell_type": "code",
   "execution_count": 2,
   "id": "deadly-klein",
   "metadata": {},
   "outputs": [
    {
     "data": {
      "application/vnd.jupyter.widget-view+json": {
       "model_id": "c4e14f9992644c7690cc8ed8ce5a7d43",
       "version_major": 2,
       "version_minor": 0
      },
      "text/plain": [
       "GeometryOptimizerUploader(children=(FileUpload(value={}, accept='.xyz', description='Upload'),))"
      ]
     },
     "metadata": {},
     "output_type": "display_data"
    },
    {
     "name": "stdout",
     "output_type": "stream",
     "text": [
      "uploaded tpp-dimer_optim.xyz\n"
     ]
    }
   ],
   "source": [
    "up = GeometryOptimizerUploader()\n",
    "display(up)"
   ]
  },
  {
   "cell_type": "code",
   "execution_count": 15,
   "id": "accessible-monitoring",
   "metadata": {},
   "outputs": [],
   "source": [
    "import numpy as np\n",
    "from pathlib import Path\n",
    "import ipywidgets\n",
    "import py3Dmol as p3d\n",
    "\n",
    "%matplotlib widget\n",
    "from matplotlib import pyplot as plt\n",
    "\n",
    "\n",
    "class GeometryOptimizationVisualizer(ipywidgets.HBox):\n",
    "     \n",
    "    def __init__(self, energies, geometries):\n",
    "        super().__init__()\n",
    "        self.energies = energies\n",
    "        self.geometries = geometries\n",
    "\n",
    "        # iteration vs energy plot\n",
    "        out_plot = ipywidgets.Output()\n",
    "        out_plot.clear_output(wait=True)\n",
    "        with out_plot:\n",
    "            self.fig, self.ax = plt.subplots(constrained_layout=True, figsize=(4, 2.5), num=\"Geometry optimization\")\n",
    "        self.line, = self.ax.plot(self.energies)\n",
    "        self.ax.scatter(0, self.energies[0], s=20, c=\"red\")\n",
    "\n",
    "        # Labeling the axes\n",
    "        self.ax.set_xlabel(\"Iteration\")\n",
    "        self.ax.set_ylabel(\"Energy (atomic units)\")\n",
    "        self.fig.canvas.toolbar_position = 'bottom'\n",
    "        self.ax.grid(True)\n",
    "        \n",
    "        # molecular visualization\n",
    "        out_mol = ipywidgets.Output()\n",
    "        out_mol.clear_output(wait=True)\n",
    "        with out_mol:\n",
    "            view = p3d.view(width=400, height=400)\n",
    "            view.addModel(self.geometries[0], \"xyz\")\n",
    "            view.setStyle({\"stick\": {}})\n",
    "            view.zoomTo()\n",
    "            view.show()\n",
    "         \n",
    "        int_slider = ipywidgets.IntSlider(\n",
    "            value=0, \n",
    "            min=0, \n",
    "            max=len(self.energies)-1, \n",
    "            step=1, \n",
    "            description='Iteration',\n",
    "            continuous_update=True,\n",
    "        )\n",
    "        player = ipywidgets.Play(\n",
    "            min=0,\n",
    "            max=len(self.energies)-1,\n",
    "            interval=100,   \n",
    "        )\n",
    " \n",
    "        controls = ipywidgets.VBox([\n",
    "            int_slider,\n",
    "            player,\n",
    "        ])\n",
    "        #controls.layout = make_box_layout()\n",
    "         \n",
    "        out_box = ipywidgets.Box([out_plot, out_mol])\n",
    "        out_plot.layout = make_box_layout()\n",
    "        out_mol.layout = make_box_layout()\n",
    " \n",
    "        # observe stuff\n",
    "        int_slider.observe(self.update, 'value')       \n",
    "        # link player and slider\n",
    "        widgets.jslink((player, 'value'), (int_slider, 'value'))\n",
    " \n",
    "        # add to children\n",
    "        self.children = [controls, out_plot, out_mol]\n",
    "    \n",
    "    def update(self, change):\n",
    "        \"\"\"Draw line in plot\"\"\"\n",
    "        idx = change[\"new\"]\n",
    "        self.ax.scatter(idx, self.energies[idx], s=20, c=\"red\")\n",
    "        self.fig.canvas.draw()\n",
    "        \n",
    "        #view = p3d.view(width=400, height=400)\n",
    "        #view.addModel(self.geometries[idx], \"xyz\")\n",
    "        #view.setStyle({\"stick\": {}})\n",
    "        #view.zoomTo()\n",
    "        #view.show()"
   ]
  },
  {
   "cell_type": "code",
   "execution_count": 16,
   "id": "national-zambia",
   "metadata": {},
   "outputs": [
    {
     "data": {
      "application/vnd.jupyter.widget-view+json": {
       "model_id": "c3bb4bd5ac9e4591ad5f305bf6082b60",
       "version_major": 2,
       "version_minor": 0
      },
      "text/plain": [
       "GeometryOptimizationVisualizer(children=(VBox(children=(IntSlider(value=0, description='Iteration', max=96), P…"
      ]
     },
     "metadata": {},
     "output_type": "display_data"
    }
   ],
   "source": [
    "GeometryOptimizationVisualizer(up.energies, up.geometries)"
   ]
  },
  {
   "cell_type": "code",
   "execution_count": null,
   "id": "charitable-weather",
   "metadata": {},
   "outputs": [],
   "source": []
  }
 ],
 "metadata": {
  "kernelspec": {
   "display_name": "Python 3",
   "language": "python",
   "name": "python3"
  },
  "language_info": {
   "codemirror_mode": {
    "name": "ipython",
    "version": 3
   },
   "file_extension": ".py",
   "mimetype": "text/x-python",
   "name": "python",
   "nbconvert_exporter": "python",
   "pygments_lexer": "ipython3",
   "version": "3.8.9"
  }
 },
 "nbformat": 4,
 "nbformat_minor": 5
}
