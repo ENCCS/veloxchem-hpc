{
 "cells": [
  {
   "cell_type": "markdown",
   "id": "initial-values",
   "metadata": {},
   "source": [
    "(xTB-geomeTRIC)=\n",
    "\n",
    "# Geometry optimizations and semiempirical Hamiltonians\n",
    "\n",
    "```{objectives}\n",
    "- Learn how to drive a semiempirical calculation with xTB from VeloxChem.\n",
    "```\n",
    "\n",
    "```{keypoints}\n",
    "- write me\n",
    "```\n",
    "\n",
    "$$\n",
    "\\sum_{i=0}^n i^2 = \\frac{(n^2+n)(2n+1)}{6}\n",
    "$$"
   ]
  },
  {
   "cell_type": "code",
   "execution_count": 2,
   "id": "corresponding-passion",
   "metadata": {
    "tags": [
     "remove-input"
    ]
   },
   "outputs": [
    {
     "data": {
      "application/3dmoljs_load.v0": "<div id=\"3dmolviewer_1619633115556516\"  style=\"position: relative; width: 400px; height: 400px\">\n        <p id=\"3dmolwarning_1619633115556516\" style=\"background-color:#ffcccc;color:black\">You appear to be running in JupyterLab (or JavaScript failed to load for some other reason).  You need to install the 3dmol extension: <br>\n        <tt>jupyter labextension install jupyterlab_3dmol</tt></p>\n        </div>\n<script>\n\nvar loadScriptAsync = function(uri){\n  return new Promise((resolve, reject) => {\n    var tag = document.createElement('script');\n    tag.src = uri;\n    tag.async = true;\n    tag.onload = () => {\n      resolve();\n    };\n  var firstScriptTag = document.getElementsByTagName('script')[0];\n  firstScriptTag.parentNode.insertBefore(tag, firstScriptTag);\n});\n};\n\nif(typeof $3Dmolpromise === 'undefined') {\n$3Dmolpromise = null;\n  $3Dmolpromise = loadScriptAsync('https://3dmol.org/build/3Dmol.js');\n}\n\nvar viewer_1619633115556516 = null;\nvar warn = document.getElementById(\"3dmolwarning_1619633115556516\");\nif(warn) {\n    warn.parentNode.removeChild(warn);\n}\n$3Dmolpromise.then(function() {\nviewer_1619633115556516 = $3Dmol.createViewer($(\"#3dmolviewer_1619633115556516\"),{backgroundColor:\"white\"});\nviewer_1619633115556516.zoomTo();\n\tviewer_1619633115556516.addModel(\"     178\\n\\n     C  61.020  57.630  26.810\\n     C  60.130  58.560  27.350\\n     H  59.660  59.270  26.670\\n     C  60.000  58.630  28.740\\n     H  59.410  59.430  29.180\\n     C  61.690  56.680  27.610\\n     H  62.190  55.820  27.180\\n     C  61.510  56.810  28.980\\n     H  62.080  56.160  29.640\\n     C  60.590  57.690  29.570\\n     C  60.370  57.790  31.030\\n     C  59.850  56.560  31.600\\n     N  59.490  56.520  32.870\\n     C  59.100  55.220  33.100\\n     C  59.190  54.430  31.920\\n     C  59.700  55.290  30.970\\n     H  59.800  55.110  29.910\\n     H  58.720  53.460  31.740\\n     C  60.820  58.940  31.610\\n     N  60.450  59.240  32.890\\n     C  61.630  59.930  30.980\\n     H  62.030  60.070  29.980\\n     C  61.650  60.890  31.970\\n     H  62.090  61.870  31.810\\n     C  60.900  60.460  33.110\\n     C  60.570  61.250  34.280\\n     C  61.200  62.590  34.200\\n     C  62.500  62.800  34.660\\n     C  63.080  64.070  34.690\\n     C  62.430  65.190  34.150\\n     C  61.080  64.950  33.880\\n     C  60.420  63.730  33.940\\n     H  59.350  63.680  33.830\\n     H  60.460  65.840  33.790\\n     H  64.120  64.240  34.930\\n     H  63.100  61.940  34.940\\n     C  60.130  60.690  35.450\\n     N  59.620  59.440  35.680\\n     C  60.020  61.480  36.630\\n     H  60.320  62.520  36.710\\n     C  59.450  60.640  37.540\\n     H  59.140  60.850  38.550\\n     C  59.070  59.440  36.870\\n     C  58.270  58.370  37.470\\n     C  57.950  58.610  38.880\\n     C  56.620  58.490  39.310\\n     H  55.760  58.370  38.650\\n     C  56.290  58.460  40.670\\n     H  55.240  58.390  40.910\\n     C  57.320  58.670  41.600\\n     C  58.650  58.670  41.170\\n     H  59.410  58.800  41.930\\n     C  58.980  58.610  39.820\\n     H  60.030  58.430  39.590\\n     C  58.140  57.180  36.800\\n     N  58.540  56.820  35.540\\n     C  57.520  56.110  37.500\\n     H  57.130  56.210  38.500\\n     C  57.640  55.060  36.640\\n     H  57.250  54.070  36.850\\n     C  58.310  55.520  35.460\\n     C  58.480  54.770  34.230\\n     C  57.720  53.510  34.330\\n     C  58.360  52.270  34.330\\n     H  59.430  52.220  34.140\\n     C  57.690  51.080  34.620\\n     H  58.240  50.150  34.700\\n     C  56.300  51.100  34.760\\n     C  55.620  52.300  34.590\\n     H  54.540  52.230  34.460\\n     C  56.320  53.500  34.490\\n     H  55.790  54.430  34.420\\n    Zn  59.320  58.090  34.160\\n     C  61.115  57.379  25.294\\n     H  62.118  57.106  25.040\\n     H  60.450  56.586  25.021\\n     H  60.844  58.270  24.767\\n     C  63.059  66.579  33.932\\n     H  62.864  67.197  34.783\\n     H  64.116  66.475  33.801\\n     H  62.634  67.029  33.059\\n     C  56.981  58.531  43.096\\n     H  55.985  58.882  43.270\\n     H  57.052  57.503  43.383\\n     H  57.670  59.111  43.673\\n     C  55.518  49.779  34.882\\n     H  55.355  49.370  33.906\\n     H  56.080  49.084  35.470\\n     H  54.575  49.965  35.353\\n     C  55.270  51.800  29.200\\n     C  54.290  52.720  28.800\\n     H  53.740  52.570  27.860\\n     C  54.010  53.840  29.570\\n     H  53.200  54.520  29.320\\n     C  55.910  52.050  30.410\\n     H  56.680  51.340  30.740\\n     C  55.670  53.200  31.170\\n     H  56.340  53.370  32.010\\n     C  54.680  54.100  30.760\\n     C  54.540  55.360  31.520\\n     C  53.630  55.130  32.630\\n     N  53.590  55.950  33.660\\n     C  52.650  55.330  34.460\\n     C  52.180  54.070  34.000\\n     C  52.770  54.010  32.770\\n     H  52.670  53.200  32.040\\n     H  51.520  53.330  34.460\\n     C  55.290  56.500  31.360\\n     N  55.160  57.680  32.040\\n     C  56.300  56.620  30.360\\n     H  56.560  55.890  29.610\\n     C  56.780  57.910  30.430\\n     H  57.540  58.340  29.800\\n     C  56.050  58.490  31.520\\n     C  56.310  59.830  32.030\\n     C  56.810  60.730  30.960\\n     C  58.120  61.180  30.920\\n     C  58.590  61.950  29.840\\n     C  57.750  62.170  28.740\\n     C  56.510  61.540  28.700\\n     C  56.000  60.890  29.830\\n     H  55.000  60.470  29.780\\n     H  55.880  61.660  27.810\\n     H  59.550  62.460  29.850\\n     H  58.760  61.040  31.780\\n     C  56.120  60.200  33.330\\n     N  55.210  59.650  34.200\\n     C  56.880  61.270  33.880\\n     H  57.710  61.880  33.520\\n     C  56.330  61.300  35.140\\n     H  56.720  61.970  35.910\\n     C  55.260  60.380  35.300\\n     C  54.360  60.100  36.410\\n     C  54.260  61.200  37.400\\n     C  53.030  61.820  37.660\\n     H  52.120  61.580  37.120\\n     C  52.910  62.730  38.710\\n     H  51.970  63.140  39.040\\n     C  54.010  63.060  39.500\\n     C  55.260  62.510  39.180\\n     H  56.050  62.680  39.900\\n     C  55.370  61.510  38.200\\n     H  56.320  61.020  38.020\\n     C  53.600  58.990  36.560\\n     N  53.450  57.920  35.720\\n     C  52.950  58.700  37.810\\n     H  52.880  59.340  38.680\\n     C  52.260  57.540  37.580\\n     H  51.570  57.140  38.310\\n     C  52.570  57.110  36.260\\n     C  52.200  55.850  35.630\\n     C  51.300  55.120  36.550\\n     C  51.700  53.970  37.230\\n     H  52.750  53.660  37.160\\n     C  50.830  53.100  37.910\\n     H  51.240  52.200  38.350\\n     C  49.470  53.370  37.880\\n     C  49.030  54.500  37.170\\n     H  48.000  54.830  37.140\\n     C  49.920  55.390  36.560\\n     H  49.590  56.330  36.140\\n    Zn  54.530  57.740  33.980\\n     C  55.689  50.603  28.326\\n     H  56.658  50.787  27.911\\n     H  55.721  49.717  28.926\\n     H  54.981  50.473  27.535\\n     C  58.292  63.079  27.621\\n     H  58.504  64.049  28.021\\n     H  59.188  62.655  27.220\\n     H  57.560  63.165  26.846\\n     C  53.896  63.981  40.729\\n     H  54.039  63.407  41.620\\n     H  54.643  64.745  40.672\\n     H  52.926  64.432  40.747\\n     C  48.427  52.388  38.445\\n     H  47.714  52.925  39.035\\n     H  47.925  51.897  37.637\\n     H  48.918  51.659  39.055\\n\",\"xyz\");\n\tviewer_1619633115556516.setStyle({\"stick\": {}});\n\tviewer_1619633115556516.zoomTo();\nviewer_1619633115556516.render();\n});\n</script>",
      "text/html": [
       "<div id=\"3dmolviewer_1619633115556516\"  style=\"position: relative; width: 400px; height: 400px\">\n",
       "        <p id=\"3dmolwarning_1619633115556516\" style=\"background-color:#ffcccc;color:black\">You appear to be running in JupyterLab (or JavaScript failed to load for some other reason).  You need to install the 3dmol extension: <br>\n",
       "        <tt>jupyter labextension install jupyterlab_3dmol</tt></p>\n",
       "        </div>\n",
       "<script>\n",
       "\n",
       "var loadScriptAsync = function(uri){\n",
       "  return new Promise((resolve, reject) => {\n",
       "    var tag = document.createElement('script');\n",
       "    tag.src = uri;\n",
       "    tag.async = true;\n",
       "    tag.onload = () => {\n",
       "      resolve();\n",
       "    };\n",
       "  var firstScriptTag = document.getElementsByTagName('script')[0];\n",
       "  firstScriptTag.parentNode.insertBefore(tag, firstScriptTag);\n",
       "});\n",
       "};\n",
       "\n",
       "if(typeof $3Dmolpromise === 'undefined') {\n",
       "$3Dmolpromise = null;\n",
       "  $3Dmolpromise = loadScriptAsync('https://3dmol.org/build/3Dmol.js');\n",
       "}\n",
       "\n",
       "var viewer_1619633115556516 = null;\n",
       "var warn = document.getElementById(\"3dmolwarning_1619633115556516\");\n",
       "if(warn) {\n",
       "    warn.parentNode.removeChild(warn);\n",
       "}\n",
       "$3Dmolpromise.then(function() {\n",
       "viewer_1619633115556516 = $3Dmol.createViewer($(\"#3dmolviewer_1619633115556516\"),{backgroundColor:\"white\"});\n",
       "viewer_1619633115556516.zoomTo();\n",
       "\tviewer_1619633115556516.addModel(\"     178\\n\\n     C  61.020  57.630  26.810\\n     C  60.130  58.560  27.350\\n     H  59.660  59.270  26.670\\n     C  60.000  58.630  28.740\\n     H  59.410  59.430  29.180\\n     C  61.690  56.680  27.610\\n     H  62.190  55.820  27.180\\n     C  61.510  56.810  28.980\\n     H  62.080  56.160  29.640\\n     C  60.590  57.690  29.570\\n     C  60.370  57.790  31.030\\n     C  59.850  56.560  31.600\\n     N  59.490  56.520  32.870\\n     C  59.100  55.220  33.100\\n     C  59.190  54.430  31.920\\n     C  59.700  55.290  30.970\\n     H  59.800  55.110  29.910\\n     H  58.720  53.460  31.740\\n     C  60.820  58.940  31.610\\n     N  60.450  59.240  32.890\\n     C  61.630  59.930  30.980\\n     H  62.030  60.070  29.980\\n     C  61.650  60.890  31.970\\n     H  62.090  61.870  31.810\\n     C  60.900  60.460  33.110\\n     C  60.570  61.250  34.280\\n     C  61.200  62.590  34.200\\n     C  62.500  62.800  34.660\\n     C  63.080  64.070  34.690\\n     C  62.430  65.190  34.150\\n     C  61.080  64.950  33.880\\n     C  60.420  63.730  33.940\\n     H  59.350  63.680  33.830\\n     H  60.460  65.840  33.790\\n     H  64.120  64.240  34.930\\n     H  63.100  61.940  34.940\\n     C  60.130  60.690  35.450\\n     N  59.620  59.440  35.680\\n     C  60.020  61.480  36.630\\n     H  60.320  62.520  36.710\\n     C  59.450  60.640  37.540\\n     H  59.140  60.850  38.550\\n     C  59.070  59.440  36.870\\n     C  58.270  58.370  37.470\\n     C  57.950  58.610  38.880\\n     C  56.620  58.490  39.310\\n     H  55.760  58.370  38.650\\n     C  56.290  58.460  40.670\\n     H  55.240  58.390  40.910\\n     C  57.320  58.670  41.600\\n     C  58.650  58.670  41.170\\n     H  59.410  58.800  41.930\\n     C  58.980  58.610  39.820\\n     H  60.030  58.430  39.590\\n     C  58.140  57.180  36.800\\n     N  58.540  56.820  35.540\\n     C  57.520  56.110  37.500\\n     H  57.130  56.210  38.500\\n     C  57.640  55.060  36.640\\n     H  57.250  54.070  36.850\\n     C  58.310  55.520  35.460\\n     C  58.480  54.770  34.230\\n     C  57.720  53.510  34.330\\n     C  58.360  52.270  34.330\\n     H  59.430  52.220  34.140\\n     C  57.690  51.080  34.620\\n     H  58.240  50.150  34.700\\n     C  56.300  51.100  34.760\\n     C  55.620  52.300  34.590\\n     H  54.540  52.230  34.460\\n     C  56.320  53.500  34.490\\n     H  55.790  54.430  34.420\\n    Zn  59.320  58.090  34.160\\n     C  61.115  57.379  25.294\\n     H  62.118  57.106  25.040\\n     H  60.450  56.586  25.021\\n     H  60.844  58.270  24.767\\n     C  63.059  66.579  33.932\\n     H  62.864  67.197  34.783\\n     H  64.116  66.475  33.801\\n     H  62.634  67.029  33.059\\n     C  56.981  58.531  43.096\\n     H  55.985  58.882  43.270\\n     H  57.052  57.503  43.383\\n     H  57.670  59.111  43.673\\n     C  55.518  49.779  34.882\\n     H  55.355  49.370  33.906\\n     H  56.080  49.084  35.470\\n     H  54.575  49.965  35.353\\n     C  55.270  51.800  29.200\\n     C  54.290  52.720  28.800\\n     H  53.740  52.570  27.860\\n     C  54.010  53.840  29.570\\n     H  53.200  54.520  29.320\\n     C  55.910  52.050  30.410\\n     H  56.680  51.340  30.740\\n     C  55.670  53.200  31.170\\n     H  56.340  53.370  32.010\\n     C  54.680  54.100  30.760\\n     C  54.540  55.360  31.520\\n     C  53.630  55.130  32.630\\n     N  53.590  55.950  33.660\\n     C  52.650  55.330  34.460\\n     C  52.180  54.070  34.000\\n     C  52.770  54.010  32.770\\n     H  52.670  53.200  32.040\\n     H  51.520  53.330  34.460\\n     C  55.290  56.500  31.360\\n     N  55.160  57.680  32.040\\n     C  56.300  56.620  30.360\\n     H  56.560  55.890  29.610\\n     C  56.780  57.910  30.430\\n     H  57.540  58.340  29.800\\n     C  56.050  58.490  31.520\\n     C  56.310  59.830  32.030\\n     C  56.810  60.730  30.960\\n     C  58.120  61.180  30.920\\n     C  58.590  61.950  29.840\\n     C  57.750  62.170  28.740\\n     C  56.510  61.540  28.700\\n     C  56.000  60.890  29.830\\n     H  55.000  60.470  29.780\\n     H  55.880  61.660  27.810\\n     H  59.550  62.460  29.850\\n     H  58.760  61.040  31.780\\n     C  56.120  60.200  33.330\\n     N  55.210  59.650  34.200\\n     C  56.880  61.270  33.880\\n     H  57.710  61.880  33.520\\n     C  56.330  61.300  35.140\\n     H  56.720  61.970  35.910\\n     C  55.260  60.380  35.300\\n     C  54.360  60.100  36.410\\n     C  54.260  61.200  37.400\\n     C  53.030  61.820  37.660\\n     H  52.120  61.580  37.120\\n     C  52.910  62.730  38.710\\n     H  51.970  63.140  39.040\\n     C  54.010  63.060  39.500\\n     C  55.260  62.510  39.180\\n     H  56.050  62.680  39.900\\n     C  55.370  61.510  38.200\\n     H  56.320  61.020  38.020\\n     C  53.600  58.990  36.560\\n     N  53.450  57.920  35.720\\n     C  52.950  58.700  37.810\\n     H  52.880  59.340  38.680\\n     C  52.260  57.540  37.580\\n     H  51.570  57.140  38.310\\n     C  52.570  57.110  36.260\\n     C  52.200  55.850  35.630\\n     C  51.300  55.120  36.550\\n     C  51.700  53.970  37.230\\n     H  52.750  53.660  37.160\\n     C  50.830  53.100  37.910\\n     H  51.240  52.200  38.350\\n     C  49.470  53.370  37.880\\n     C  49.030  54.500  37.170\\n     H  48.000  54.830  37.140\\n     C  49.920  55.390  36.560\\n     H  49.590  56.330  36.140\\n    Zn  54.530  57.740  33.980\\n     C  55.689  50.603  28.326\\n     H  56.658  50.787  27.911\\n     H  55.721  49.717  28.926\\n     H  54.981  50.473  27.535\\n     C  58.292  63.079  27.621\\n     H  58.504  64.049  28.021\\n     H  59.188  62.655  27.220\\n     H  57.560  63.165  26.846\\n     C  53.896  63.981  40.729\\n     H  54.039  63.407  41.620\\n     H  54.643  64.745  40.672\\n     H  52.926  64.432  40.747\\n     C  48.427  52.388  38.445\\n     H  47.714  52.925  39.035\\n     H  47.925  51.897  37.637\\n     H  48.918  51.659  39.055\\n\",\"xyz\");\n",
       "\tviewer_1619633115556516.setStyle({\"stick\": {}});\n",
       "\tviewer_1619633115556516.zoomTo();\n",
       "viewer_1619633115556516.render();\n",
       "});\n",
       "</script>"
      ]
     },
     "metadata": {},
     "output_type": "display_data"
    }
   ],
   "source": [
    "import py3Dmol as p3d\n",
    "\n",
    "v = p3d.view(width=400, height=400)\n",
    "\n",
    "with open(\"inputs/zn-porphyrin-dimer.xyz\", \"r\") as fh:\n",
    "    zn_porphyrin_dimer_xyz = fh.read()\n",
    "\n",
    "v.addModel(zn_porphyrin_dimer_xyz, \"xyz\")\n",
    "v.setStyle({'stick':{}})\n",
    "v.zoomTo()\n",
    "v.show()"
   ]
  },
  {
   "cell_type": "markdown",
   "id": "prompt-medicare",
   "metadata": {},
   "source": [
    "## Visualization of results"
   ]
  },
  {
   "cell_type": "code",
   "execution_count": 17,
   "id": "bigger-thanks",
   "metadata": {},
   "outputs": [
    {
     "data": {
      "application/vnd.jupyter.widget-view+json": {
       "model_id": "bda960f864f34983ae91672249a86cb6",
       "version_major": 2,
       "version_minor": 0
      },
      "text/plain": [
       "GeometryOptimizerUploader(children=(FileUpload(value={}, accept='.xyz', description='Upload'),))"
      ]
     },
     "metadata": {},
     "output_type": "display_data"
    }
   ],
   "source": [
    "import codecs\n",
    "import re\n",
    "\n",
    "import ipywidgets\n",
    "\n",
    "\n",
    "class GeometryOptimizerUploader(ipywidgets.HBox):\n",
    "    \n",
    "    def __init__(self):\n",
    "        super().__init__()\n",
    "        self.geometries = []\n",
    "        self.energies = []\n",
    "        \n",
    "        # define widgets\n",
    "        uploader = ipywidgets.FileUpload(\n",
    "            accept=\".xyz\",  # Accepted file extension e.g. '.txt', '.pdf', 'image/*', 'image/*,.pdf'\n",
    "            multiple=False  # True to accept multiple files upload else False\n",
    "        )\n",
    "        uploader.observe(self.on_upload_change, names='_counter')\n",
    "        \n",
    "        self.children = [uploader]\n",
    "    def on_upload_change(self, change):\n",
    "        if not change.new:\n",
    "            return\n",
    "        up = change.owner\n",
    "        \n",
    "        regex = re.compile(br\"Iteration (?P<iteration>\\d+) Energy (?P<energy>-\\d+.\\d+)\", re.MULTILINE)\n",
    "        for filename, data in up.value.items():\n",
    "            print(f'uploaded {filename}')\n",
    "            contents = data[\"content\"]\n",
    "            matches = regex.finditer(contents)\n",
    "            self.energies = [float(m.group(\"energy\")) for m in matches]\n",
    "            # number of lines in each XYZ structure\n",
    "            xyzs = codecs.decode(contents).splitlines()\n",
    "            natoms = contents[0]\n",
    "            lines_per_xyz = natoms + 2\n",
    "            for lines in range(0, len(xyzs), lines_per_xyz):\n",
    "                self.geometries.append(\"\\n\".join(xyzs[lines:lines+lines_per_xyz]))\n",
    "        up.value.clear()\n",
    "        up._counter = 0\n",
    "\n",
    "up = GeometryOptimizerUploader()\n",
    "up"
   ]
  },
  {
   "cell_type": "code",
   "execution_count": 16,
   "id": "imported-cambodia",
   "metadata": {
    "tags": [
     "raises-exception"
    ]
   },
   "outputs": [
    {
     "data": {
      "application/vnd.jupyter.widget-view+json": {
       "model_id": "6dbab07525724523901129593360a254",
       "version_major": 2,
       "version_minor": 0
      },
      "text/plain": [
       "HBox(children=(VBox(children=(IntSlider(value=0, max=342), Play(value=0))), Output(), Output()))"
      ]
     },
     "metadata": {},
     "output_type": "display_data"
    }
   ],
   "source": [
    "import ipywidgets\n",
    "import py3Dmol as p3d\n",
    "\n",
    "%matplotlib widget\n",
    "from matplotlib import pyplot as plt\n",
    "\n",
    "\n",
    "geometries = up.geometries\n",
    "# output widget with geometries\n",
    "out_geometries = ipywidgets.Output()\n",
    "out_geometries.clear_output(wait=True)\n",
    "\n",
    "# display first geometry\n",
    "with out_geometries:\n",
    "    v = p3d.view(width=300, height=300)\n",
    "    v.addModel(geometries[0], \"xyz\")\n",
    "    v.setStyle({\"stick\": {}})\n",
    "    v.zoomTo()\n",
    "    v.show()\n",
    "    \n",
    "@out_geometries.capture(clear_output=True, wait=True)\n",
    "def on_geometry_change(change):\n",
    "    idx = change[\"new\"]\n",
    "    v = p3d.view(width=300, height=300)\n",
    "    v.addModel(geometries[idx], \"xyz\")\n",
    "    v.setStyle({\"stick\": {}})\n",
    "    v.zoomTo()\n",
    "    v.show()\n",
    "\n",
    "energies = up.energies\n",
    "# output widget with energies\n",
    "out_energies = ipywidgets.Output()\n",
    "out_energies.clear_output(wait=True)\n",
    "\n",
    "# display full trajectory plot with point for first geometry\n",
    "with out_energies:\n",
    "    fig, ax = plt.subplots(constrained_layout=True, figsize=(4, 2.5), num=\"Geometry optimization\")\n",
    "    line, = ax.plot(energies)\n",
    "    ax.scatter(0, energies[0], s=20, c=\"red\")\n",
    "\n",
    "    # Labeling the axes\n",
    "    ax.set_xlabel(\"Iteration\")\n",
    "    ax.set_ylabel(\"Energy (atomic units)\")\n",
    "    fig.canvas.toolbar_position = 'bottom'\n",
    "    ax.grid(True)\n",
    "\n",
    "@out_energies.capture(clear_output=True, wait=True)\n",
    "def on_energy_change(change):\n",
    "    idx = change[\"new\"]\n",
    "    ax.scatter(idx, energies[idx], s=20, c=\"red\")\n",
    "    fig.canvas.draw()\n",
    "    \n",
    "# a slider widgets, to select geometry to display\n",
    "slider = ipywidgets.IntSlider(min=0, max=len(geometries)-1, step=1, continuous_update=True)\n",
    "# a player widget, to show the whole optimization trajectory\n",
    "player = ipywidgets.Play(min=0, interval=100)\n",
    "# put control widget in a vertical box widget\n",
    "controls = ipywidgets.VBox([slider, player])\n",
    "\n",
    "# link slider widget with geometry change\n",
    "slider.observe(on_geometry_change, 'value')\n",
    "# link slider widget with energy change\n",
    "slider.observe(on_energy_change, 'value')\n",
    "# link player and slider widgets\n",
    "ipywidgets.jslink((player, 'value'), (slider, 'value'))\n",
    "# put controls and output widget in horizontal box widget\n",
    "ipywidgets.HBox([controls, out_geometries, out_energies])"
   ]
  },
  {
   "cell_type": "code",
   "execution_count": null,
   "id": "talented-wealth",
   "metadata": {},
   "outputs": [],
   "source": []
  }
 ],
 "metadata": {
  "jupytext": {
   "formats": "ipynb,md:myst"
  },
  "kernelspec": {
   "display_name": "Python 3",
   "language": "python",
   "name": "python3"
  },
  "language_info": {
   "codemirror_mode": {
    "name": "ipython",
    "version": 3
   },
   "file_extension": ".py",
   "mimetype": "text/x-python",
   "name": "python",
   "nbconvert_exporter": "python",
   "pygments_lexer": "ipython3",
   "version": "3.8.9"
  },
  "widgets": {
   "application/vnd.jupyter.widget-state+json": {
    "state": {
     "d46a59be61ae4cefb5bbeb6dec711fc2": {
      "model_module": "@jupyter-widgets/base",
      "model_module_version": "1.2.0",
      "model_name": "LayoutModel",
      "state": {
       "_model_module": "@jupyter-widgets/base",
       "_model_module_version": "1.2.0",
       "_model_name": "LayoutModel",
       "_view_count": null,
       "_view_module": "@jupyter-widgets/base",
       "_view_module_version": "1.2.0",
       "_view_name": "LayoutView",
       "align_content": null,
       "align_items": null,
       "align_self": null,
       "border": null,
       "bottom": null,
       "display": null,
       "flex": null,
       "flex_flow": null,
       "grid_area": null,
       "grid_auto_columns": null,
       "grid_auto_flow": null,
       "grid_auto_rows": null,
       "grid_column": null,
       "grid_gap": null,
       "grid_row": null,
       "grid_template_areas": null,
       "grid_template_columns": null,
       "grid_template_rows": null,
       "height": null,
       "justify_content": null,
       "justify_items": null,
       "left": null,
       "margin": null,
       "max_height": null,
       "max_width": null,
       "min_height": null,
       "min_width": null,
       "object_fit": null,
       "object_position": null,
       "order": null,
       "overflow": null,
       "overflow_x": null,
       "overflow_y": null,
       "padding": null,
       "right": null,
       "top": null,
       "visibility": null,
       "width": null
      }
     },
     "f29c0e6b7b3e4f61888536e6bf184fb1": {
      "model_module": "@jupyter-widgets/controls",
      "model_module_version": "1.5.0",
      "model_name": "FileUploadModel",
      "state": {
       "_counter": 0,
       "_dom_classes": [],
       "_model_module": "@jupyter-widgets/controls",
       "_model_module_version": "1.5.0",
       "_model_name": "FileUploadModel",
       "_view_count": null,
       "_view_module": "@jupyter-widgets/controls",
       "_view_module_version": "1.5.0",
       "_view_name": "FileUploadView",
       "accept": ".xyz",
       "button_style": "",
       "data": [],
       "description": "Upload",
       "description_tooltip": null,
       "disabled": false,
       "error": "",
       "icon": "upload",
       "layout": "IPY_MODEL_d46a59be61ae4cefb5bbeb6dec711fc2",
       "metadata": [],
       "multiple": false,
       "style": "IPY_MODEL_f4d3c64c468f4e2685cd7ccf05d7b017"
      }
     },
     "f4d3c64c468f4e2685cd7ccf05d7b017": {
      "model_module": "@jupyter-widgets/controls",
      "model_module_version": "1.5.0",
      "model_name": "ButtonStyleModel",
      "state": {
       "_model_module": "@jupyter-widgets/controls",
       "_model_module_version": "1.5.0",
       "_model_name": "ButtonStyleModel",
       "_view_count": null,
       "_view_module": "@jupyter-widgets/base",
       "_view_module_version": "1.2.0",
       "_view_name": "StyleView",
       "button_color": null,
       "font_weight": ""
      }
     }
    },
    "version_major": 2,
    "version_minor": 0
   }
  }
 },
 "nbformat": 4,
 "nbformat_minor": 5
}
